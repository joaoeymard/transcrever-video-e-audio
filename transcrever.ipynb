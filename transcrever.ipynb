{
  "cells": [
    {
      "cell_type": "markdown",
      "metadata": {
        "id": "view-in-github",
        "colab_type": "text"
      },
      "source": [
        "<a href=\"https://colab.research.google.com/github/joaoeymard/transcrever-video-e-audio/blob/main/transcrever.ipynb\" target=\"_parent\"><img src=\"https://colab.research.google.com/assets/colab-badge.svg\" alt=\"Open In Colab\"/></a>"
      ]
    },
    {
      "cell_type": "markdown",
      "source": [
        "# Instalar dependências"
      ],
      "metadata": {
        "id": "yNUCHP5Cv5NB"
      }
    },
    {
      "cell_type": "code",
      "source": [
        "!pip install git+https://github.com/openai/whisper.git\n",
        "\n",
        "!pip install ffmpeg-python\n",
        "\n",
        "!sudo apt update && sudo apt install ffmpeg"
      ],
      "metadata": {
        "collapsed": true,
        "id": "byJCv8PFYG-V"
      },
      "execution_count": null,
      "outputs": []
    },
    {
      "cell_type": "markdown",
      "source": [
        "# Gerar a transcrição para .txt"
      ],
      "metadata": {
        "id": "qeF2bOKhwA7N"
      }
    },
    {
      "cell_type": "markdown",
      "source": [
        "## Converter vídeo em áudio"
      ],
      "metadata": {
        "id": "QsH7NaVuxRv6"
      }
    },
    {
      "cell_type": "code",
      "source": [
        "import ffmpeg\n",
        "ffmpeg.input(\"reuniao.mp4\").output(\"audio.mp3\", format=\"mp3\", acodec=\"libmp3lame\").run(overwrite_output=True)"
      ],
      "metadata": {
        "id": "-2GbOfWPelwe"
      },
      "execution_count": null,
      "outputs": []
    },
    {
      "cell_type": "markdown",
      "source": [
        "## Converter áudio em texto"
      ],
      "metadata": {
        "id": "eBgRZ3NcxWY0"
      }
    },
    {
      "cell_type": "code",
      "execution_count": null,
      "metadata": {
        "id": "zwFnJsE6vjf8",
        "collapsed": true
      },
      "outputs": [],
      "source": [
        "!whisper \"audio.mp3\" --model medium --output_format txt"
      ]
    }
  ],
  "metadata": {
    "colab": {
      "name": "Transcrever Vídeo e Audio",
      "provenance": [],
      "gpuType": "T4",
      "include_colab_link": true
    },
    "kernelspec": {
      "display_name": "Python 3",
      "name": "python3"
    },
    "accelerator": "GPU"
  },
  "nbformat": 4,
  "nbformat_minor": 0
}